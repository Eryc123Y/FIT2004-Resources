{
 "cells": [
  {
   "cell_type": "markdown",
   "metadata": {},
   "source": [
    "# Quick Select\n",
    "Quick Select is a selection algorithm to find the k-th smallest/largest element in an list in expected linear time. It is the same as Quick Sort, but instead of recursing both sides, it only recurses one side. This reduces the average time complexity from O(n log n) to O(n).\n",
    "\n",
    "The pseudocode for Quick Select is as follows:\n",
    "```text\n",
    "function quickSelect(list, left, right, k) is\n",
    "    if left = right then\n",
    "        return list[left]\n",
    "    pivotIndex := partition(list, left, right)  // Step 1: Partition the list\n",
    "    if k = pivotIndex then                           // Step 2: Check if pivot is the k-th element\n",
    "        return list[k]\n",
    "    else if k < pivotIndex then                    // Step 3: Recurse on the left side\n",
    "        return quickSelect(list, left, pivotIndex - 1, k)\n",
    "    else                                           // Step 4: Recurse on the right side\n",
    "        return quickSelect(list, pivotIndex + 1, right, k)\n",
    "function partition(list, left, right) is\n",
    "    pivotValue := list[right]  // Choose rightmost element as pivot (can be randomized)\n",
    "    storeIndex := left\n",
    "    for i from left to right-1 do\n",
    "        if list[i] < pivotValue then\n",
    "            swap list[i] and list[storeIndex]\n",
    "            storeIndex := storeIndex + 1\n",
    "    swap list[right] and list[storeIndex]\n",
    "\n",
    "```"
   ]
  },
  {
   "cell_type": "code",
   "execution_count": null,
   "metadata": {},
   "outputs": [],
   "source": [
    "def quick_select(arr, k):\n",
    "    if not arr:\n",
    "        return None\n",
    "    if k < 0 or k >= len(arr):\n",
    "        return None\n",
    "    return quick_select_helper(arr, 0, len(arr) - 1, k)\n",
    "\n",
    "def quick_select_helper(arr, start, end, k):\n",
    "    if start == end:\n",
    "        return arr[start]\n",
    "    pivot = arr[end]\n",
    "    left = start\n",
    "    right = end\n",
    "    while left < right:\n",
    "        while arr[left] < pivot and left < right:\n",
    "            left += 1\n",
    "        while arr[right] >= pivot and left < right:\n",
    "            right -= 1\n",
    "        arr[left], arr[right] = arr[right], arr[left]\n",
    "    arr[left], arr[end] = arr[end], arr[left]\n",
    "    if left == k:\n",
    "        return arr[left]\n",
    "    elif left < k:\n",
    "        return quick_select_helper(arr, left + 1, end, k)\n",
    "    else:\n",
    "        return quick_select_helper(arr, start, left - 1, k)"
   ]
  },
  {
   "cell_type": "markdown",
   "metadata": {},
   "source": []
  }
 ],
 "metadata": {
  "language_info": {
   "name": "python"
  }
 },
 "nbformat": 4,
 "nbformat_minor": 2
}
