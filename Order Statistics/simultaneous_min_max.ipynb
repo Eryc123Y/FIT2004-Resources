{
 "cells": [
  {
   "cell_type": "markdown",
   "metadata": {},
   "source": [
    "# Simultaneous Minimum and Maximum\n",
    "Simultaneous Minimum and Maximum is a problem where we have to find the minimum and maximum element from an array in less than 2*(n-1) comparisons. This problem can be solved using a divide and conquer approach. The idea is to divide the array into two halves and then recursively find the minimum and maximum of the two halves. The minimum of the two minimums and the maximum of the two maximums will be the minimum and maximum of the whole array."
   ]
  },
  {
   "cell_type": "code",
   "execution_count": null,
   "metadata": {},
   "outputs": [],
   "source": [
    "def simultaneous_min_max(arr):\n",
    "    if not arr:\n",
    "        return None, None\n",
    "    \n",
    "    n = len(arr)\n",
    "    \n",
    "    # Initialize min_val and max_val using the first one or two elements.\n",
    "    if n % 2 == 0:\n",
    "        if arr[0] < arr[1]:\n",
    "            min_val, max_val = arr[0], arr[1]\n",
    "        else:\n",
    "            min_val, max_val = arr[1], arr[0]\n",
    "        # Pair starting from the third element\n",
    "        start_index = 2\n",
    "    else:\n",
    "        min_val = max_val = arr[0]\n",
    "        start_index = 1\n",
    "\n",
    "    # Process pairs using zip on slices for improved readability.\n",
    "    # Slicing the list from start_index in steps of 2 ensures that we cover pairs.\n",
    "    for a, b in zip(arr[start_index::2], arr[start_index+1::2]):\n",
    "        if a < b:\n",
    "            # Use direct comparisons to update min and max.\n",
    "            if a < min_val:\n",
    "                min_val = a\n",
    "            if b > max_val:\n",
    "                max_val = b\n",
    "        else:\n",
    "            if b < min_val:\n",
    "                min_val = b\n",
    "            if a > max_val:\n",
    "                max_val = a\n",
    "\n",
    "    return min_val, max_val\n"
   ]
  }
 ],
 "metadata": {
  "kernelspec": {
   "display_name": "base",
   "language": "python",
   "name": "python3"
  },
  "language_info": {
   "name": "python",
   "version": "3.9.7"
  }
 },
 "nbformat": 4,
 "nbformat_minor": 2
}
